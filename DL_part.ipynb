{
 "cells": [
  {
   "cell_type": "markdown",
   "metadata": {},
   "source": [
    "# Hierarchical vs Non-Hierarchical CNN Text Classification\n",
    "\n",
    "This notebook demonstrates a comparison between hierarchical and non-hierarchical approaches for text classification using Convolutional Neural Networks (CNNs). The hierarchical approach considers the hierarchical structure of categories, whereas the non-hierarchical approach treats all categories as flat.\n",
    "\n",
    "The comparison will be based on various evaluation metrics to understand the importance of hierarchy in multi-label text classification.\n",
   ]
  },
  {
   "cell_type": "code",
   "execution_count": null,
   "metadata": {},
   "outputs": [],
   "source": [
    "\n",
    "import pandas as pd  # Data manipulation and analysis\n",
    "import nltk  # Natural Language Toolkit for text preprocessing\n",
    "from nltk.corpus import stopwords  # Module for stopwords in text\n",
    "from nltk.tokenize import word_tokenize  # Tokenization of text\n",
    "from sklearn.preprocessing import LabelEncoder  # Encoding labels for classification\n",
    "from tensorflow.keras.preprocessing.text import Tokenizer  # Tokenization for Keras\n",
    "from tensorflow.keras.preprocessing.sequence import pad_sequences  # Padding sequences for Keras\n",
    "from tensorflow.keras.models import Sequential  # Sequential model for Keras\n",
    "from tensorflow.keras.layers import Embedding, Conv1D, GlobalMaxPooling1D, Dense, Dropout  # Layers for CNN in Keras\n",
    "from tensorflow.keras.callbacks import LearningRateScheduler  # Callback for learning rate scheduling\n",
    "from tensorflow.keras.metrics import Precision, Recall  # Metrics for model evaluation\n",
    "from sklearn.model_selection import train_test_split  # Splitting data into train and test sets\n",
    "import time  # Time module for tracking time\n",
    "import math  # Math module for mathematical operations\n",
    "import numpy as np  \n",
    "from sklearn.feature_extraction.text import TfidfVectorizer\n",
    "from keras.callbacks import EarlyStopping\n",
    "from tensorflow.keras.optimizers import Adam\n",
    "from nltk.stem import PorterStemmer\n",
    "\n",
    "# Ensure all necessary NLTK resources are available\n",
    "nltk.download('punkt')  # Download tokenizer resource\n",
    "nltk.download('wordnet')  # Download wordnet resource for lemmatization\n",
    "nltk.download('stopwords')  # Download stopwords resource\n"
   ]
  },
  {
   "cell_type": "markdown",
   "metadata": {},
   "source": [
    "### Data Preprocessing\n"
   ]
  },
  {
   "cell_type": "code",
   "execution_count": null,
   "metadata": {},
   "outputs": [],
   "source": [
    "# Setup stopwords and lemmatizer\n",
    "default_stopwords = set(stopwords.words('english')) | {\n",
    "    'said', 'would', 'even', 'according', 'could', 'year', 'years', 'also', 'new', 'people', \n",
    "    'old', 'one', 'two', 'time', 'first', 'last', 'say', 'make', 'best', 'get', 'three', \n",
    "    'year old', 'told', 'made', 'like', 'take', 'many', 'set', 'number', 'month', 'week', \n",
    "    'well', 'back'\n",
    "}\n",
    "stemmer = PorterStemmer()\n"
   ]
  },
  {
   "cell_type": "markdown",
   "metadata": {},
   "source": [
    "### Text Cleaning Function\n",
    "\n",
    "The `clean_text` function helps to prepare text data by:\n",
    "\n",
    "1. **Normalizing**: Converts text to lowercase and removes non-alphabetic characters.\n",
    "2. **Tokenizing and Filtering**: Breaks text into words, removes stopwords, and keeps only words longer than 3 characters.\n",
    "3. **Stemming**: Reduces words to their base form.\n",
    "4. **Rejoining**: Puts the cleaned words back into a single string.\n",
    "\n",
    "This makes the text ready for the CNN model.\n"
   ]
  },
  {
   "cell_type": "code",
   "execution_count": null,
   "metadata": {},
   "outputs": [],
   "source": [
    "def clean_text(text):\n",
    "    # Normalize text: lowercasing and removing non-alphabetic characters\n",
    "    text = re.sub(r'[^a-z\\s]', ' ', text.lower())\n",
    "\n",
    "    # Tokenization and filtering out stopwords and short words\n",
    "    tokens = [word for word in word_tokenize(text) if word not in default_stopwords and len(word) > 3]\n",
    "\n",
    "    # Stemming\n",
    "    tokens = [stemmer.stem(word) for word in tokens]\n",
    "    \n",
    "    # Join cleaned tokens back into a string\n",
    "    return ' '.join(tokens)\n"
   ]
  },
  {
   "cell_type": "code",
   "execution_count": null,
   "metadata": {},
   "outputs": [],
   "source": [
    "def load_dataset(file_path):\n",
    "    #Load dataset.\n",
    "    df = pd.read_csv(file_path)\n",
    "    return df"
   ]
  },
  {
   "cell_type": "markdown",
   "metadata": {},
   "source": [
    "### Text Preprocessing Function\n",
    "\n",
    "The `preprocess_text` function prepares the text data for the model by:\n",
    "\n",
    "1. **Tokenizer Creation**: If no tokenizer is provided, it creates one and fits it on the text data.\n",
    "2. **Text to Sequences**: Converts text to sequences of integers.\n",
    "3. **Padding Sequences**: Pads sequences to ensure they all have the same length.\n",
    "\n",
    "This makes the text data ready for the CNN model.\n"
   ]
  },
  {
   "cell_type": "code",
   "execution_count": null,
   "metadata": {},
   "outputs": [],
   "source": [
    "def preprocess_text(df, column_name, num_words=30000, maxlen=2000, tokenizer=None):\n",
    "    # Preprocess text data for model input.\n",
    "    \n",
    "    # If no tokenizer is provided, create and fit a new one\n",
    "    if tokenizer is None:\n",
    "        tokenizer = Tokenizer(num_words=num_words)  # Initialize tokenizer with a specified number of words\n",
    "        tokenizer.fit_on_texts(df[column_name])  # Fit tokenizer on the text data in the specified column\n",
    "    \n",
    "    # Convert text to sequences of integers\n",
    "    sequences = tokenizer.texts_to_sequences(df[column_name])\n",
    "    \n",
    "    # Pad sequences to ensure uniform length\n",
    "    padded_sequences = pad_sequences(sequences, maxlen=maxlen)\n",
    "    \n",
    "    return padded_sequences, tokenizer\n"
   ]
  },
  {
   "cell_type": "markdown",
   "metadata": {},
   "source": [
    "### Label Encoding Function\n",
    "\n",
    "The `encode_labels` function encodes the labels by:\n",
    "\n",
    "1. **Initializing Encoder**: Creates a label encoder.\n",
    "2. **Fitting and Transforming**: Converts labels to integer values.\n",
    "3. **One-Hot Encoding**: Converts integer labels to a one-hot encoded format.\n",
    "\n",
    "This prepares the labels for the CNN model.\n"
   ]
  },
  {
   "cell_type": "code",
   "execution_count": null,
   "metadata": {},
   "outputs": [],
   "source": [
    "def encode_labels(df, label_column):\n",
    "    # Encode labels to categorical values.\n",
    "    \n",
    "    # Initialize label encoder\n",
    "    label_encoder = LabelEncoder()\n",
    "    \n",
    "    # Fit the label encoder and transform labels to integers\n",
    "    encoded_labels = label_encoder.fit_transform(df[label_column])\n",
    "    \n",
    "    # Create and print mapping from original labels to encoded values\n",
    "    label_mapping = dict(zip(label_encoder.classes_, range(len(label_encoder.classes_))))\n",
    "    \n",
    "    # Convert integer labels to one-hot encoded format\n",
    "    categorical_labels = pd.get_dummies(encoded_labels).values\n",
    "    \n",
    "    return categorical_labels, label_encoder\n"
   ]
  },
  {
   "cell_type": "markdown",
   "metadata": {},
   "source": [
    "## Model Definition Function\n"
   ]
  },
  {
   "cell_type": "code",
   "execution_count": null,
   "metadata": {},
   "outputs": [],
   "source": [
    "\n",
    "def define_model(input_dim, output_dim, input_length, num_filters, kernel_size, num_classes, dropout_rate):\n",
    "    model = Sequential()\n",
    "    model.add(Embedding(input_dim=input_dim, output_dim=output_dim, input_length=input_length))\n",
    "    model.add(Conv1D(filters=num_filters, kernel_size=kernel_size, activation='relu'))\n",
    "    model.add(GlobalMaxPooling1D())\n",
    "    model.add(Dense(units=100, activation='relu'))\n",
    "    model.add(Dropout(dropout_rate))\n",
    "    model.add(Dense(units=num_classes, activation='softmax'))\n",
    "    return model\n",
    "  \n"
   ]
  },
  {
   "cell_type": "markdown",
   "metadata": {},
   "source": [
    "### Model Compilation and Training Function"
   ]
  },
  {
   "cell_type": "code",
   "execution_count": null,
   "metadata": {},
   "outputs": [],
   "source": [
    "# with early stopping\n",
    "def compile_and_train(model, X_train, y_train, X_test, y_test, batch_size, epochs, learning_rate_schedule):\n",
    "    optimizer = Adam(learning_rate=0.001)  \n",
    "    model.compile(loss='categorical_crossentropy', optimizer=optimizer, metrics=['accuracy', Precision(), Recall()])\n",
    "\n",
    "    callbacks = []\n",
    "    if learning_rate_schedule:\n",
    "        lrate = LearningRateScheduler(learning_rate_schedule)\n",
    "        callbacks.append(lrate)\n",
    "    \n",
    "    # Add early stopping\n",
    "    early_stopping = EarlyStopping(monitor='val_loss', patience=3, verbose=1, restore_best_weights=True)\n",
    "    callbacks.append(early_stopping)\n",
    "\n",
    "    history = model.fit(\n",
    "        X_train, y_train, \n",
    "        batch_size=batch_size, \n",
    "        epochs=epochs, \n",
    "        validation_data=(X_test, y_test), \n",
    "        callbacks=callbacks\n",
    "    )\n",
    "\n",
    "    # Get the final test loss only\n",
    "    test_loss = model.evaluate(X_test, y_test) \n",
    "    return history,test_loss"
   ]
  },
  {
   "cell_type": "markdown",
   "metadata": {},
   "source": [
    "### Step Decay Learning Rate Function\n",
    "I use it, to try everything for the overfitting "
   ]
  },
  {
   "cell_type": "code",
   "execution_count": null,
   "metadata": {},
   "outputs": [],
   "source": [
    "import math\n",
    "\n",
    "def step_decay(epoch):\n",
    "    # Step decay function for learning rate adjustment\n",
    "    initial_lrate = 0.01  # Initial learning rate\n",
    "    drop = 0.5  # Factor by which the learning rate is reduced\n",
    "    epochs_drop = 5  # Number of epochs after which the learning rate is reduced\n",
    "    lrate = initial_lrate * math.pow(drop, math.floor((1+epoch)/epochs_drop))  # Calculate the new learning rate\n",
    "    return lrate  \n"
   ]
  },
  {
   "cell_type": "markdown",
   "metadata": {},
   "source": [
    "### Model Evaluation Function"
   ]
  },
  {
   "cell_type": "code",
   "execution_count": null,
   "metadata": {},
   "outputs": [],
   "source": [
    "# Import necessary metrics from sklearn\n",
    "from sklearn.metrics import accuracy_score, f1_score, precision_score, recall_score\n",
    "\n",
    "def evaluate_model(y_true, y_pred, model_name, threshold=0.5):\n",
    "    \"\"\"Evaluate the model using various metrics.\"\"\"\n",
    "    # Convert probabilities to binary labels based on the threshold\n",
    "    y_pred_binary = (y_pred >= threshold).astype(int)\n",
    "    \n",
    "    # Calculate accuracy\n",
    "    accuracy = accuracy_score(y_true, y_pred_binary)\n",
    "    \n",
    "    # Calculate F1 score\n",
    "    f1 = f1_score(y_true, y_pred_binary, average='macro')\n",
    "    \n",
    "    # Calculate precision\n",
    "    precision = precision_score(y_true, y_pred_binary, average='macro')\n",
    "    \n",
    "    # Calculate recall\n",
    "    recall = recall_score(y_true, y_pred_binary, average='macro')\n",
    "    \n",
    "    # Print evaluation results\n",
    "    print(f\"Evaluation results for {model_name}:\")\n",
    "    print(f\"Accuracy: {accuracy:.4f}\")\n",
    "    print(f\"F1 Score: {f1:.4f}\")\n",
    "    print(f\"Precision: {precision:.4f}\")\n",
    "    print(f\"Recall: {recall:.4f}\")\n",
    "    \n",
    "    return accuracy, f1, precision, recall\n"
   ]
  },
  {
   "cell_type": "markdown",
   "metadata": {},
   "source": [
    "### Plot Learning Curves Function"
   ]
  },
  {
   "cell_type": "code",
   "execution_count": null,
   "metadata": {},
   "outputs": [],
   "source": [
    "# Importing matplotlib for plotting\n",
    "import matplotlib.pyplot as plt\n",
    "\n",
    "def plot_learning_curves(history_simple_level_1, model_name):\n",
    "    \"\"\"Plot learning curves for training and validation accuracy/loss.\"\"\"\n",
    "\n",
    "    # Extract accuracy and loss from the history object\n",
    "    accuracy = history_simple_level_1.history['accuracy']\n",
    "    val_accuracy = history_simple_level_1.history['val_accuracy']\n",
    "    loss = history_simple_level_1.history['loss']\n",
    "    val_loss = history_simple_level_1.history['val_loss']\n",
    "    epochs = range(1, len(accuracy) + 1)\n",
    "\n",
    "    # Plot training and validation accuracy\n",
    "    plt.figure(figsize=(12, 5))\n",
    "    plt.subplot(1, 2, 1)\n",
    "    plt.plot(epochs, accuracy, 'r', label='Training accuracy')\n",
    "    plt.plot(epochs, val_accuracy, 'b', label='Validation accuracy')\n",
    "    plt.title('Training and Validation Accuracy')\n",
    "    plt.xlabel('Epochs')\n",
    "    plt.ylabel('Accuracy')\n",
    "    plt.legend()\n",
    "\n",
    "    # Plot training and validation loss\n",
    "    plt.subplot(1, 2, 2)\n",
    "    plt.plot(epochs, loss, 'r', label='Training loss')\n",
    "    plt.plot(epochs, val_loss, 'b', label='Validation loss')\n",
    "    plt.title('Training and Validation Loss')\n",
    "    plt.xlabel('Epochs')\n",
    "    plt.ylabel('Loss')\n",
    "    plt.legend()\n",
    "\n",
    "    plt.tight_layout()\n",
    "    plt.show()\n"
   ]
  },
  {
   "cell_type": "markdown",
   "metadata": {},
   "source": [
    "### Plot Confusion Matrix Function"
   ]
  },
  {
   "cell_type": "code",
   "execution_count": null,
   "metadata": {},
   "outputs": [],
   "source": [
    "# Import necessary library for confusion matrix\n",
    "from sklearn.metrics import confusion_matrix\n",
    "import seaborn as sns\n",
    "\n",
    "def plot_confusion_matrix(y_true, y_pred, model_name, labels):\n",
    "    \"\"\"Plot the confusion matrix for the model.\"\"\"\n",
    "    # Convert probabilities to binary labels\n",
    "    y_pred_binary = (y_pred >= 0.5).astype(int)\n",
    "    \n",
    "    # Compute the confusion matrix\n",
    "    cm = confusion_matrix(y_true.argmax(axis=1), y_pred_binary.argmax(axis=1), labels=range(len(labels)))\n",
    "    \n",
    "    # Create a heatmap for the confusion matrix\n",
    "    plt.figure(figsize=(10, 8))\n",
    "    sns.heatmap(cm, annot=True, fmt='d', cmap='Blues', xticklabels=labels, yticklabels=labels)\n",
    "    plt.title(f'{model_name} - Confusion Matrix')\n",
    "    plt.xlabel('Predicted Label')\n",
    "    plt.ylabel('True Label')\n",
    "   \n"
   ]
  },
  {
   "cell_type": "markdown",
   "metadata": {},
   "source": [
    "### Load and Preprocess the Datase\n"
   ]
  },
  {
   "cell_type": "code",
   "execution_count": null,
   "metadata": {},
   "outputs": [],
   "source": [
    "import pandas as pd\n",
    "import numpy as np\n",
    "\n",
    "# Load the dataset\n",
    "def load_dataset(file_path):\n",
    "    return pd.read_csv(file_path)\n",
    "\n",
    "df = load_dataset(\"/Users/theodorapoultsidou/Desktop/machinelearning/project/news-classification.csv\")\n",
    "\n",
    "# Combine title and content into a single text column\n",
    "df['text'] = df['title'] + ' ' + df['content']\n",
    "\n",
    "# Clean text\n",
    "df['text'] = df['text'].apply(clean_text)\n",
    "\n",
    "# Preprocess text data\n",
    "X, tokenizer = preprocess_text(df, 'text')\n",
    "\n",
    "# Encode labels for level 1 and level 2 categories\n",
    "y_level_1, label_encoder_1 = encode_labels(df, 'category_level_1')\n",
    "y_level_2, label_encoder_2 = encode_labels(df, 'category_level_2')\n",
    "\n",
    "# Split the data into training and testing sets\n",
    "X_train, X_test, y_train_level_1, y_test_level_1 = train_test_split(X, y_level_1, test_size=0.2, random_state=42)\n",
    "_, _, y_train_level_2, y_test_level_2 = train_test_split(X, y_level_2, test_size=0.2, random_state=42)\n"
   ]
  },
  {
   "cell_type": "markdown",
   "metadata": {},
   "source": [
    "### Initialize the parameters"
   ]
  },
  {
   "cell_type": "code",
   "execution_count": null,
   "metadata": {},
   "outputs": [],
   "source": [
    "# Define input dimensions based on your data\n",
    "input_dim = 30000\n",
    "output_dim = 128\n",
    "input_length = 2000\n",
    "num_filters = 64\n",
    "kernel_size = 7\n",
    "num_classes_level_1 = y_level_1.shape[1]\n",
    "num_classes_level_2 = y_level_2.shape[1]\n",
    "epochs = 10\n"
   ]
  },
  {
   "cell_type": "markdown",
   "metadata": {},
   "source": [
    "### Create and train the Simple models"
   ]
  },
  {
   "cell_type": "code",
   "execution_count": null,
   "metadata": {},
   "outputs": [],
   "source": [
    "# Create and train the simple model for level 1\n",
    "model_simple_level_1 = define_model(input_dim=input_dim, output_dim=output_dim, input_length=input_length, num_filters=num_filters, kernel_size=kernel_size, num_classes=num_classes_level_1, dropout_rate=0.25)\n",
    "history_simple_level_1, loss_l1 = compile_and_train(model_simple_level_1, X_train, y_train_level_1, X_test, y_test_level_1, batch_size=32, epochs=10,learning_rate_schedule=None)\n"
   ]
  },
  {
   "cell_type": "code",
   "execution_count": null,
   "metadata": {},
   "outputs": [],
   "source": [
    "# Create and train the simple model for level 2\n",
    "model_simple_level_2 = define_model(input_dim=input_dim, output_dim=output_dim, input_length=input_length, num_filters=num_filters, kernel_size=kernel_size, num_classes=num_classes_level_2, dropout_rate=0.1)\n",
    "history_simple_level_2,loss_l2 = compile_and_train(model_simple_level_2, X_train, y_train_level_2, X_test, y_test_level_2, batch_size=32, epochs=10,learning_rate_schedule=None)\n"
   ]
  },
  {
   "cell_type": "code",
   "execution_count": 120,
   "metadata": {},
   "outputs": [],
   "source": [
    "### Evaluate and Visualize the Models"
   ]
  },
  {
   "cell_type": "code",
   "execution_count": null,
   "metadata": {},
   "outputs": [],
   "source": [
    "# Evaluate the  model for level 1\n",
    "y_pred_simple_level_1 = model_simple_level_1.predict(X_test)\n",
    "evaluate_model(y_test_level_1, y_pred_simple_level_1, 'Simple Model Level 1')\n",
    "plot_learning_curves(history_simple_level_1, 'Simple Model Level 1')\n",
    "plot_confusion_matrix(y_test_level_1, y_pred_simple_level_1, 'Simple Model Level 1', labels=label_encoder_1.classes_)"
   ]
  },
  {
   "cell_type": "code",
   "execution_count": null,
   "metadata": {},
   "outputs": [],
   "source": [
    "# Evaluate the  model for level 2\n",
    "y_pred_simple_level_2 = model_simple_level_2.predict(X_test)\n",
    "evaluate_model(y_test_level_2, y_pred_simple_level_2, 'Simple Model Level 2')\n",
    "plot_learning_curves(history_simple_level_2, 'Simple Model Level 2')\n",
    "plot_confusion_matrix(y_test_level_2, y_pred_simple_level_2, 'Simple Model Level 2', labels=label_encoder_2.classes_)\n"
   ]
  },
  {
   "cell_type": "markdown",
   "metadata": {},
   "source": [
    "### Hierarchical Evaluation of Level 2 Model\n",
    "By training separate Level 2 models for each Level 1 category, we can take advantage of the hierarchical structure in our data. This approach allows each Level 2 model to specialize in classifying the subcategories within a specific Level 1 category, potentially improving overall classification performance.\n"
   ]
  },
  {
   "cell_type": "code",
   "execution_count": null,
   "metadata": {},
   "outputs": [],
   "source": [
    "\n",
    "accuracies_hierarchical = []\n",
    "precisions_hierarchical = []\n",
    "recalls_hierarchical = []\n",
    "f1_scores_hierarchical = []\n",
    "all_predictions_hierarchical = {}\n",
    "training_accuracies_hierarchical = []\n",
    "\n",
    "# Level 2 Model Training with Hierarchy\n",
    "for category in label_encoder_1.classes_:\n",
    "    # Filter the dataframe for the current Level 1 category\n",
    "    df_filtered_hierarchical = df[df['category_level_1'] == category]\n",
    "    \n",
    "    # Check if there are enough samples in the category\n",
    "    if len(df_filtered_hierarchical) < 10:\n",
    "        print(f\"Not enough samples for training in category {category}. Skipping...\")\n",
    "        continue\n",
    "\n",
    "    # Encode Level 2 labels for the filtered dataframe\n",
    "    y_level_2_hierarchical, label_encoder_2_hierarchical = encode_labels(df_filtered_hierarchical, 'category_level_2')\n",
    "    \n",
    "    # Preprocess text data for the filtered dataframe \n",
    "    X_pad_filtered_hierarchical, _ = preprocess_text(df_filtered_hierarchical, 'text', tokenizer=tokenizer)\n",
    "    \n",
    "    # Split the data into training and testing sets for Level 2\n",
    "    X_train_level_2_hierarchical, X_test_level_2_hierarchical, y_train_level_2_hierarchical, y_test_level_2_hierarchical = train_test_split(X_pad_filtered_hierarchical, y_level_2_hierarchical, test_size=0.1, random_state=10)\n",
    "    \n",
    "    # Define the Level 2 model\n",
    "    model_level_2_hierarchical = define_model(input_dim=input_dim, output_dim=output_dim, input_length=input_length, num_filters=num_filters, kernel_size=kernel_size, num_classes=y_level_2_hierarchical.shape[1], dropout_rate=0.25)\n",
    "    \n",
    "    # Compile and train the Level 2 model\n",
    "    history_level_2_hierarchical, test_accuracy_level_2_hierarchical = compile_and_train(model_level_2_hierarchical, X_train_level_2_hierarchical, y_train_level_2_hierarchical, X_test_level_2_hierarchical, y_test_level_2_hierarchical, batch_size=32, epochs=20, learning_rate_schedule=None)\n",
    "    \n",
    "    # Store the training accuracy\n",
    "    training_accuracies_hierarchical.append(history_level_2_hierarchical.history['accuracy'][-1])\n",
    "    \n",
    "    # Get predictions for the test set\n",
    "    predictions_hierarchical = model_level_2_hierarchical.predict(X_test_level_2_hierarchical)\n",
    "    y_pred_labels = predictions_hierarchical.argmax(axis=1)\n",
    "    y_true_labels = y_test_level_2_hierarchical.argmax(axis=1)\n",
    "    \n",
    "    # Calculate evaluation metrics\n",
    "    accuracy = accuracy_score(y_true_labels, y_pred_labels)\n",
    "    precision = precision_score(y_true_labels, y_pred_labels, average='macro')\n",
    "    recall = recall_score(y_true_labels, y_pred_labels, average='macro')\n",
    "    f1 = f1_score(y_true_labels, y_pred_labels, average='macro')\n",
    "    \n",
    "    # Store the metrics\n",
    "    accuracies_hierarchical.append(accuracy)\n",
    "    precisions_hierarchical.append(precision)\n",
    "    recalls_hierarchical.append(recall)\n",
    "    f1_scores_hierarchical.append(f1)\n",
    "    \n",
    "    # Store predictions for later analysis\n",
    "    all_predictions_hierarchical[category] = (y_test_level_2_hierarchical, predictions_hierarchical)\n",
    "    \n",
    "    print(f\"Category: {category}\")\n",
    "    print(f\"Training accuracy for {category}: {history_level_2_hierarchical.history['accuracy'][-1] * 100:.2f}%\")\n",
    "    print(f\"Test accuracy for {category}: {accuracy * 100:.2f}%\")\n",
    "    print(f\"Precision for {category}: {precision * 100:.2f}%\")\n",
    "    print(f\"Recall for {category}: {recall * 100:.2f}%\")\n",
    "    print(f\"F1 Score for {category}: {f1 * 100:.2f}%\")\n"
   ]
  },
  {
   "cell_type": "code",
   "execution_count": null,
   "metadata": {},
   "outputs": [],
   "source": [
    "# Calculate and print the average evaluation metrics for Level 2 models\n",
    "if accuracies_hierarchical:\n",
    "    avg_accuracy = sum(accuracies_hierarchical) / len(accuracies_hierarchical)\n",
    "    avg_precision = sum(precisions_hierarchical) / len(precisions_hierarchical)\n",
    "    avg_recall = sum(recalls_hierarchical) / len(recalls_hierarchical)\n",
    "    avg_f1 = sum(f1_scores_hierarchical) / len(f1_scores_hierarchical)\n",
    "    \n",
    "    print(f\"\\nAverage Test Accuracy for Level 2 Models: {avg_accuracy * 100:.2f}%\")\n",
    "    print(f\"Average Precision for Level 2 Models: {avg_precision * 100:.2f}%\")\n",
    "    print(f\"Average Recall for Level 2 Models: {avg_recall * 100:.2f}%\")\n",
    "    print(f\"Average F1 Score for Level 2 Models: {avg_f1 * 100:.2f}%\")\n",
    "else:\n",
    "    print(\"No Level 2 models were trained due to lack of data.\")"
   ]
  },
  {
   "cell_type": "code",
   "execution_count": null,
   "metadata": {},
   "outputs": [],
   "source": []
  }
 ],
 "metadata": {
  "kernelspec": {
   "display_name": "Python 3",
   "language": "python",
   "name": "python3"
  },
  "language_info": {
   "codemirror_mode": {
    "name": "ipython",
    "version": 3
   },
   "file_extension": ".py",
   "mimetype": "text/x-python",
   "name": "python",
   "nbconvert_exporter": "python",
   "pygments_lexer": "ipython3",
   "version": "3.10.11"
  }
 },
 "nbformat": 4,
 "nbformat_minor": 2
}
